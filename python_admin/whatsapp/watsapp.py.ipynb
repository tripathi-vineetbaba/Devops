{
 "cells": [
  {
   "cell_type": "code",
   "execution_count": null,
   "metadata": {
    "collapsed": true
   },
   "outputs": [],
   "source": [
    "def startDateExtract(s):\n",
    "    pattern='^(([0-2][0-9])|((3)[0-1]))(\\/)(((0)[1-9])|((1)[0-2]))(\\/)((\\d{2})|(\\d{4})) , ([0-9][0-9]):([0-9][0-9] -'\n",
    "    result=re.match(pattern,s)\n",
    "    if result:\n",
    "        return True\n",
    "    return False\n"
   ]
  }
 ],
 "metadata": {
  "kernelspec": {
   "display_name": "Python 2",
   "language": "python",
   "name": "python2"
  },
  "language_info": {
   "codemirror_mode": {
    "name": "ipython",
    "version": 2
   },
   "file_extension": ".py",
   "mimetype": "text/x-python",
   "name": "python",
   "nbconvert_exporter": "python",
   "pygments_lexer": "ipython2",
   "version": "2.7.6"
  }
 },
 "nbformat": 4,
 "nbformat_minor": 0
}
